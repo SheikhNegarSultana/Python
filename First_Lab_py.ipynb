{
  "nbformat": 4,
  "nbformat_minor": 0,
  "metadata": {
    "colab": {
      "provenance": []
    },
    "kernelspec": {
      "name": "python3",
      "display_name": "Python 3"
    },
    "language_info": {
      "name": "python"
    }
  },
  "cells": [
    {
      "cell_type": "code",
      "execution_count": 1,
      "metadata": {
        "colab": {
          "base_uri": "https://localhost:8080/"
        },
        "id": "7iXHmyc7A1Et",
        "outputId": "e53eda02-f494-4111-a42d-7ce4baf331f3"
      },
      "outputs": [
        {
          "output_type": "stream",
          "name": "stdout",
          "text": [
            "Practicing Python\n"
          ]
        }
      ],
      "source": [
        "#simple print\n",
        "print(\"Practicing Python\")"
      ]
    },
    {
      "cell_type": "code",
      "source": [
        "#Python Comment + Using String\n",
        "name = \"Negar Sultana\"\n",
        "print(name)"
      ],
      "metadata": {
        "colab": {
          "base_uri": "https://localhost:8080/"
        },
        "id": "PH0fB5aEBgM6",
        "outputId": "3f192167-0e75-4470-92f3-f9b4c16f3e9c"
      },
      "execution_count": 2,
      "outputs": [
        {
          "output_type": "stream",
          "name": "stdout",
          "text": [
            "Negar Sultana\n"
          ]
        }
      ]
    },
    {
      "cell_type": "code",
      "source": [
        "# An integer assignment\n",
        "age = 17\n",
        "print(age)"
      ],
      "metadata": {
        "colab": {
          "base_uri": "https://localhost:8080/"
        },
        "id": "k9fcvbMdBmOn",
        "outputId": "c66722d2-fd10-43b6-9717-51ff5d1c50a5"
      },
      "execution_count": 4,
      "outputs": [
        {
          "output_type": "stream",
          "name": "stdout",
          "text": [
            "17\n"
          ]
        }
      ]
    },
    {
      "cell_type": "code",
      "source": [
        "# A floating point\n",
        "salary = 1456.8\n",
        "print(salary)"
      ],
      "metadata": {
        "colab": {
          "base_uri": "https://localhost:8080/"
        },
        "id": "azhvILqbBrhr",
        "outputId": "4d14a4c8-4a10-487d-afa2-bb5c821d9544"
      },
      "execution_count": 5,
      "outputs": [
        {
          "output_type": "stream",
          "name": "stdout",
          "text": [
            "1456.8\n"
          ]
        }
      ]
    },
    {
      "cell_type": "code",
      "source": [
        "# complex\n",
        "x = 3j\n",
        "print(x)"
      ],
      "metadata": {
        "colab": {
          "base_uri": "https://localhost:8080/"
        },
        "id": "5yHh90D8B41g",
        "outputId": "72a3d6e3-d235-4962-a199-65bbc8a7694b"
      },
      "execution_count": 6,
      "outputs": [
        {
          "output_type": "stream",
          "name": "stdout",
          "text": [
            "3j\n"
          ]
        }
      ]
    },
    {
      "cell_type": "code",
      "source": [
        "# bool\n",
        "y = True\n",
        "print(y)"
      ],
      "metadata": {
        "colab": {
          "base_uri": "https://localhost:8080/"
        },
        "id": "m1zeFV4oCHo3",
        "outputId": "45e43f00-72b4-4475-846f-6a5c210ed978"
      },
      "execution_count": 7,
      "outputs": [
        {
          "output_type": "stream",
          "name": "stdout",
          "text": [
            "True\n"
          ]
        }
      ]
    },
    {
      "cell_type": "code",
      "source": [
        "#Arithmetic Operators\n",
        "print(10 + 5) # Addition\n",
        "print(10 - 5) # Subtraction\n",
        "print(10 * 5) # Multiplication\n",
        "print(10 / 5) # Division\n",
        "print(10 % 5) # Modulus\n",
        "print(10 ** 5) # Exponentiation"
      ],
      "metadata": {
        "colab": {
          "base_uri": "https://localhost:8080/"
        },
        "id": "m5opnQy7DGVi",
        "outputId": "8a8cf635-de8a-4ef7-ee4d-02e5fec8584a"
      },
      "execution_count": 8,
      "outputs": [
        {
          "output_type": "stream",
          "name": "stdout",
          "text": [
            "15\n",
            "5\n",
            "50\n",
            "2.0\n",
            "0\n",
            "100000\n"
          ]
        }
      ]
    }
  ]
}